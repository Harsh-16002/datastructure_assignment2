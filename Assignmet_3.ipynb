{
  "nbformat": 4,
  "nbformat_minor": 0,
  "metadata": {
    "colab": {
      "provenance": []
    },
    "kernelspec": {
      "name": "python3",
      "display_name": "Python 3"
    },
    "language_info": {
      "name": "python"
    }
  },
  "cells": [
    {
      "cell_type": "code",
      "execution_count": null,
      "metadata": {
        "colab": {
          "base_uri": "https://localhost:8080/"
        },
        "id": "dT9eW6TQh9lj",
        "outputId": "749f6a8e-2f87-4f9c-a493-ec3cc10385ad"
      },
      "outputs": [
        {
          "output_type": "stream",
          "name": "stdout",
          "text": [
            "olleh\n"
          ]
        }
      ],
      "source": [
        "#1 Write a code to reverse a string\n",
        "\n",
        "my_string = \"hello\"\n",
        "\n",
        "reversed_string = my_string[::-1]\n",
        "\n",
        "print(reversed_string)"
      ]
    },
    {
      "cell_type": "code",
      "source": [
        " #2 Write a code to count the number of vowels in a string\n",
        "\n",
        "s = \"Hello World\"\n",
        "count = 0\n",
        "for char in s:\n",
        "    if char.lower() in 'aeiou':\n",
        "        count += 1\n",
        "print(count)\n",
        "\n"
      ],
      "metadata": {
        "colab": {
          "base_uri": "https://localhost:8080/"
        },
        "id": "U9z43bhUiBHh",
        "outputId": "113e7807-0f7b-4285-bc15-3378e430ea65"
      },
      "execution_count": null,
      "outputs": [
        {
          "output_type": "stream",
          "name": "stdout",
          "text": [
            "3\n"
          ]
        }
      ]
    },
    {
      "cell_type": "code",
      "source": [
        "#3 Write a code to check if a given string is a palindrome or not\n",
        "\n",
        "\n",
        "s = input(\"Enter a sring\")\n",
        "if s != s[::-1]:\n",
        "    print(\"The String is not palindrome\")\n",
        "else:\n",
        "    print(\"String is palindrome\")\n"
      ],
      "metadata": {
        "colab": {
          "base_uri": "https://localhost:8080/"
        },
        "id": "h36X0tpwiDcf",
        "outputId": "0d9f2067-f41d-47ae-8d8a-a8a2ca90f1bf"
      },
      "execution_count": null,
      "outputs": [
        {
          "output_type": "stream",
          "name": "stdout",
          "text": [
            "Enter a sringradar\n",
            "String is palindrome\n"
          ]
        }
      ]
    },
    {
      "cell_type": "code",
      "source": [
        "#4 Write a code to check if two given strings are anagrams of each other\n",
        "\n",
        "s1 = \"listen\"\n",
        "s2 = \"silent\"\n",
        "\n",
        "if sorted(s1) == sorted(s2):\n",
        "    print(\"The strings are anagrams\")\n",
        "else:\n",
        "    print(\"The strings are not anagrams\")\n"
      ],
      "metadata": {
        "id": "tRDAj7poiICN"
      },
      "execution_count": null,
      "outputs": []
    },
    {
      "cell_type": "code",
      "source": [
        "#5 Write a code to find all occurrences of a given substring within another string\n",
        "\n",
        "\n",
        "s = \"Hello, World! Hello again! Hello!\"\n",
        "substring = \"Hello\"\n",
        "\n",
        "indexes = [i for i in range(len(s)) if s.startswith(substring, i)]\n",
        "print(indexes)\n"
      ],
      "metadata": {
        "colab": {
          "base_uri": "https://localhost:8080/"
        },
        "id": "LFCM-4hziKjX",
        "outputId": "046787ba-172d-4de1-8e11-9eaaf76ee998"
      },
      "execution_count": null,
      "outputs": [
        {
          "output_type": "stream",
          "name": "stdout",
          "text": [
            "[0, 14, 27]\n"
          ]
        }
      ]
    },
    {
      "cell_type": "code",
      "source": [
        "#6 Write a code to perform basic string compression using the counts of repeated characters\n",
        "\n",
        "s = \"aaabbbbbccddd\"\n",
        "compressed = []\n",
        "count = 1\n",
        "\n",
        "for i in range(1, len(s)):\n",
        "    if s[i] == s[i - 1]:\n",
        "        count += 1\n",
        "    else:\n",
        "        compressed.append(s[i - 1] + str(count))\n",
        "        count = 1\n",
        "\n",
        "compressed.append(s[-1] + str(count))\n",
        "print(\"\".join(compressed))  # Output: \"a3b5c2d3\"\n"
      ],
      "metadata": {
        "id": "3DwBaIz-iM6L"
      },
      "execution_count": null,
      "outputs": []
    },
    {
      "cell_type": "code",
      "source": [
        "#7 Write a code to determine if a string has all unique characters\n",
        "\n",
        "s = \"hello\"\n",
        "if len(s) == len(set(s)):\n",
        "    print(\"All characters are unique\")\n",
        "else:\n",
        "    print(\"Not all characters are unique\")"
      ],
      "metadata": {
        "id": "aZfSv6WMiSoQ"
      },
      "execution_count": null,
      "outputs": []
    },
    {
      "cell_type": "code",
      "source": [
        "#8  Write a code to convert a given string to uppercase or lowercase\n",
        "\n",
        "# Convert to uppercase\n",
        "s = \"hello\"\n",
        "print(s.upper())  # Output: \"HELLO\"\n",
        "\n",
        "# Convert to lowercase\n",
        "s = \"HELLO\"\n",
        "print(s.lower())  # Output: \"hello\"\n"
      ],
      "metadata": {
        "id": "jSq3AGtZiV6q"
      },
      "execution_count": null,
      "outputs": []
    },
    {
      "cell_type": "code",
      "source": [
        "#9 Write a code to count the number of words in a string\n",
        "\n",
        "s = \"Hello World, this is a test string.\"\n",
        "\n",
        "words = s.split()\n",
        "print(len(words))  # Output: 7\n"
      ],
      "metadata": {
        "id": "MW_5BQyEiYUF"
      },
      "execution_count": null,
      "outputs": []
    },
    {
      "cell_type": "code",
      "source": [
        "#10  Write a code to concatenate two strings without using the + operator\n",
        "\n",
        "str1 = \"Hello\"\n",
        "str2 = \"World\"\n",
        "\n",
        "\n",
        "result = \"\".join([str1, str2])\n",
        "print(result)  # Output: \"HelloWorld\"\n"
      ],
      "metadata": {
        "id": "S-zK_wnpiat2"
      },
      "execution_count": null,
      "outputs": []
    },
    {
      "cell_type": "code",
      "source": [
        "#11 Write a code to remove all occurrences of a specific element from a list\n",
        "\n",
        "my_list = [1, 2, 3, 4, 2, 2, 5]\n",
        "element_to_remove = 2\n",
        "my_list = [i for i in my_list if i != element_to_remove]\n",
        "print(my_list)  # Output: [1, 3, 4, 5]\n"
      ],
      "metadata": {
        "id": "mSZr0D2fifMM"
      },
      "execution_count": null,
      "outputs": []
    },
    {
      "cell_type": "code",
      "source": [
        "#12  Implement a code to find the second largest number in a given list of integers\n",
        "\n",
        "\n",
        "nums = [10, 20, 30, 40, 50]\n",
        "nums_sorted = sorted(nums)\n",
        "print(nums_sorted[-2])  # Output: 40\n",
        "\n"
      ],
      "metadata": {
        "id": "ki9mAFmYinsz"
      },
      "execution_count": null,
      "outputs": []
    },
    {
      "cell_type": "code",
      "source": [
        "#13 Create a code to count the occurrences of each element in a list and return a dictionary with elements as\n",
        "# keys and their counts as values\n",
        "\n",
        "my_list = [1, 2, 2, 3, 3, 3, 4, 4, 4, 4]\n",
        "count_dict = {}\n",
        "for elem in my_list:\n",
        "    if elem in count_dict:\n",
        "        count_dict[elem] += 1\n",
        "    else:\n",
        "        count_dict[elem] = 1\n",
        "print(count_dict)  # Output: {1: 1, 2: 2, 3: 3, 4: 4}\n"
      ],
      "metadata": {
        "id": "G2n483cGiofe"
      },
      "execution_count": null,
      "outputs": []
    },
    {
      "cell_type": "code",
      "source": [
        "#14  Write a code to reverse a list in-place without using any built-in reverse functions\n",
        "\n",
        "my_list = [1, 2, 3, 4, 5]\n",
        "left = 0\n",
        "right = len(my_list) - 1\n",
        "\n",
        "while left < right:\n",
        "    my_list[left], my_list[right] = my_list[right], my_list[left]\n",
        "    left += 1\n",
        "    right -= 1\n",
        "\n",
        "print(my_list)  # Output: [5, 4, 3, 2, 1]\n"
      ],
      "metadata": {
        "id": "ZomL9gvFisD-"
      },
      "execution_count": null,
      "outputs": []
    },
    {
      "cell_type": "code",
      "source": [
        "# 15 Implement a code to find and remove duplicates from a list while preserving the original order of\n",
        "# elements\n",
        "\n",
        "my_list = [1, 2, 2, 3, 4, 4, 5, 6, 6, 7]\n",
        "\n",
        "seen = set()\n",
        "result = [x for x in my_list if not (x in seen or seen.add(x))]\n",
        "\n",
        "print(result)  # Output: [1, 2, 3, 4, 5, 6, 7]\n"
      ],
      "metadata": {
        "id": "RmOLPSLtixJ1"
      },
      "execution_count": null,
      "outputs": []
    },
    {
      "cell_type": "code",
      "source": [
        "# 16 Create a code to check if a given list is sorted (either in ascending or descending order) or not\n",
        "\n",
        "my_list = [1, 2, 3, 4, 5]\n",
        "\n",
        "if all(my_list[i] <= my_list[i+1] for i in range(len(my_list)-1)) or all(my_list[i] >= my_list[i+1] for i in range(len(my_list)-1)):\n",
        "    print(\"The list is sorted.\")\n",
        "else:\n",
        "    print(\"The list is not sorted.\")\n"
      ],
      "metadata": {
        "id": "Ete1X9oGi0uj"
      },
      "execution_count": null,
      "outputs": []
    },
    {
      "cell_type": "code",
      "source": [
        "#17 Write a code to merge two sorted lists into a single sorted list\n",
        "\n",
        "list1 = [1, 3, 5]\n",
        "list2 = [2, 4, 6]\n",
        "\n",
        "merged_list = sorted(list1 + list2)\n",
        "print(merged_list)  # Output: [1, 2, 3, 4, 5, 6]\n"
      ],
      "metadata": {
        "id": "v0amg69mizCm"
      },
      "execution_count": null,
      "outputs": []
    },
    {
      "cell_type": "code",
      "source": [
        "#18 Implement a code to find the intersection of two given lists\n",
        "\n",
        "list1 = [1, 2, 3, 4, 5]\n",
        "list2 = [4, 5, 6, 7, 8]\n",
        "\n",
        "intersection = [value for value in list1 if value in list2]\n",
        "print(intersection)  # Output: [4, 5]\n"
      ],
      "metadata": {
        "id": "Zm6St-37i4co"
      },
      "execution_count": null,
      "outputs": []
    },
    {
      "cell_type": "code",
      "source": [
        "#19  Create a code to find the union of two lists without duplicates\n",
        "\n",
        "list1 = [1, 2, 3, 4, 5]\n",
        "list2 = [4, 5, 6, 7, 8]\n",
        "\n",
        "union = list(set(list1) | set(list2))\n",
        "print(union)  # Output: [1, 2, 3, 4, 5, 6, 7, 8]\n"
      ],
      "metadata": {
        "id": "5HlKhdyJi4kd"
      },
      "execution_count": null,
      "outputs": []
    },
    {
      "cell_type": "code",
      "source": [
        "#20  Write a code to shuffle a given list randomly without using any built-in shuffle function\n",
        "\n",
        "import random\n",
        "\n",
        "my_list = [1, 2, 3, 4, 5]\n",
        "for i in range(len(my_list)):\n",
        "    j = random.randint(0, len(my_list) - 1)\n",
        "    my_list[i], my_list[j] = my_list[j], my_list[i]\n",
        "print(my_list)\n",
        "\n"
      ],
      "metadata": {
        "id": "0lTPCM5Pi-T2"
      },
      "execution_count": null,
      "outputs": []
    },
    {
      "cell_type": "code",
      "source": [
        "# 21 Write a code that takes two tuples as input and returns a new tuple containing elements that are common to both input tuples\n",
        "\n",
        "tuple1 = (1, 2, 3, 4, 5)\n",
        "tuple2 = (4, 5, 6, 7, 8)\n",
        "\n",
        "common_elements = tuple(set(tuple1) & set(tuple2))\n",
        "print(common_elements)  # Output: (4, 5)"
      ],
      "metadata": {
        "id": "YujCxvgmi-ZK"
      },
      "execution_count": null,
      "outputs": []
    },
    {
      "cell_type": "code",
      "source": [
        "#22 Create a code that prompts the user to enter two sets of integers separated by commas. Then, print the intersection of these two sets\n",
        "\n",
        "\n",
        "set1 = input(\"Enter the first set of integers (separated by commas): \")\n",
        "\n",
        "set1 = set(map(int, set1.split(\",\")))\n",
        "\n",
        "set2 = input(\"Enter the second set of integers (separated by commas): \")\n",
        "\n",
        "set2 = set(map(int, set2.split(\",\")))\n",
        "\n",
        "intersection = set1 & set2\n",
        "\n",
        "print(\"Intersection:\", intersection)\n"
      ],
      "metadata": {
        "id": "hQeTHOrMjGMS"
      },
      "execution_count": null,
      "outputs": []
    },
    {
      "cell_type": "code",
      "source": [
        "#23 Write a code to concatenate two tuples. The function should take two tuples as input and return a new tuple containing elements from both input tuples.\n",
        "\n",
        "tuple1 = (1, 2, 3)\n",
        "tuple2 = (4, 5, 6)\n",
        "\n",
        "concatenated_tuple = tuple1 + tuple2\n",
        "print(concatenated_tuple)  # Output: (1, 2, 3, 4, 5, 6)"
      ],
      "metadata": {
        "id": "5X9_p9IjjG8l"
      },
      "execution_count": null,
      "outputs": []
    },
    {
      "cell_type": "code",
      "source": [
        "#24 Develop a code that prompts the user to input two sets of strings. Then, print the elements that are present in the first set but not in the second set\n",
        "\n",
        "set1 = input(\"Enter the first set of strings (separated by commas): \")\n",
        "\n",
        "set1 = set(set1.split(\",\"))\n",
        "\n",
        "set2 = input(\"Enter the second set of strings (separated by commas): \")\n",
        "\n",
        "set2 = set(set2.split(\",\"))\n",
        "\n",
        "difference = set1 - set2\n",
        "\n",
        "print(\"Elements present in the first set but not in the second set:\")\n",
        "for element in difference:\n",
        "    print(element)\n"
      ],
      "metadata": {
        "id": "nTTaEWoyjJy_"
      },
      "execution_count": null,
      "outputs": []
    },
    {
      "cell_type": "code",
      "source": [
        "# 25  Create a code that takes a tuple and two integers as input. The function should return a new tuple containing elements from the original tuple within the specified range of indices\n",
        "\n",
        "\n",
        "tup = (1, 2, 3, 4, 5, 6)\n",
        "start = 1\n",
        "end = 4\n",
        "new_tup = tup[start:end]\n",
        "print(new_tup)  # Output: (2, 3, 4)\n"
      ],
      "metadata": {
        "id": "mS2ydTShjJ2d"
      },
      "execution_count": null,
      "outputs": []
    },
    {
      "cell_type": "code",
      "source": [
        "# 26   Write a code that prompts the user to input two sets of characters. Then, print the union of these two sets\n",
        "\n",
        "set1 = input(\"Enter the first set of characters (separated by commas): \")\n",
        "\n",
        "set1 = set(set1.replace(\" \", \"\"))\n",
        "\n",
        "set2 = input(\"Enter the second set of characters (separated by commas): \")\n",
        "\n",
        "set2 = set(set2.replace(\" \", \"\"))\n",
        "\n",
        "union = set1 | set2\n",
        "\n",
        "print(\"Union:\", union)\n"
      ],
      "metadata": {
        "id": "zTRdWEFbjN-e"
      },
      "execution_count": null,
      "outputs": []
    },
    {
      "cell_type": "code",
      "source": [
        "#27  Develop a code that takes a tuple of integers as input. The function should return the maximum and minimum values from the tuple using tuple unpacking\n",
        "\n",
        "\n",
        "tup = (1, 2, 3, 4, 5)\n",
        "\n",
        "max_val, *_, min_val = sorted(tup)\n",
        "\n",
        "print(\"Maximum value:\", max_val)\n",
        "print(\"Minimum value:\", min_val)"
      ],
      "metadata": {
        "id": "J3_724lijOB7"
      },
      "execution_count": null,
      "outputs": []
    },
    {
      "cell_type": "code",
      "source": [
        "#28  Create a code that defines two sets of integers. Then, print the union, intersection, and difference of these two sets\n",
        "\n",
        "set1 = {1, 2, 3, 4, 5}\n",
        "set2 = {4, 5, 6, 7, 8}\n",
        "\n",
        "print(\"Union:\", set1 | set2)\n",
        "\n",
        "print(\"Intersection:\", set1 & set2)\n",
        "\n",
        "print(\"Difference:\", set1 - set2)\n",
        "\n",
        "\n"
      ],
      "metadata": {
        "id": "aFgSrAe8jRt0"
      },
      "execution_count": null,
      "outputs": []
    },
    {
      "cell_type": "code",
      "source": [
        "#29 Write a code that takes a tuple and an element as input. The function should return the count of occurrences of the given element in the tuple\n",
        "\n",
        "\n",
        "tup = (1, 2, 2, 3, 4, 2)\n",
        "elem = 2\n",
        "count = tup.count(elem)\n",
        "print(count)  # Output: 3\n"
      ],
      "metadata": {
        "id": "-3vSFZRKjRxL"
      },
      "execution_count": null,
      "outputs": []
    },
    {
      "cell_type": "code",
      "source": [
        "#30  Develop a code that prompts the user to input two sets of strings. Then, print the symmetric difference of these two sets\n",
        "\n",
        "set1 = input(\"Enter the first set of strings (separated by commas): \")\n",
        "set1 = set(set1.split(\",\"))\n",
        "\n",
        "set2 = input(\"Enter the second set of strings (separated by commas): \")\n",
        "set2 = set(set2.split(\",\"))\n",
        "\n",
        "symmetric_difference = set1 ^ set2\n",
        "\n",
        "print(\"Symmetric Difference:\", symmetric_difference)\n"
      ],
      "metadata": {
        "id": "w8P4Qm7-jWc-"
      },
      "execution_count": null,
      "outputs": []
    },
    {
      "cell_type": "code",
      "source": [
        "#31  Write a code that takes a list of words as input and returns a dictionary where the keys are unique words and the values are the frequencies of those words in the input list\n",
        "\n",
        "word_list = input(\"Enter a list of words (separated by commas): \").split(\",\")\n",
        "frequency_dict = {}\n",
        "for word in word_list:\n",
        "    if word in frequency_dict:\n",
        "        frequency_dict[word] += 1\n",
        "    else:\n",
        "        frequency_dict[word] = 1\n",
        "print(frequency_dict)\n"
      ],
      "metadata": {
        "id": "AF3M--1YjYE1"
      },
      "execution_count": null,
      "outputs": []
    },
    {
      "cell_type": "code",
      "source": [
        "#32 Write a code that takes two dictionaries as input and merges them into a single dictionary. If there are common keys, the values should be added together\n",
        "\n",
        "dict1 = {\"a\": 1, \"b\": 2, \"c\": 3}\n",
        "dict2 = {\"b\": 2, \"c\": 4, \"d\": 5}\n",
        "\n",
        "merged_dict = {key: dict1.get(key, 0) + dict2.get(key, 0) for key in set(dict1) | set(dict2)}\n",
        "\n",
        "print(merged_dict)\n"
      ],
      "metadata": {
        "id": "tK9RkAtmjbE6"
      },
      "execution_count": null,
      "outputs": []
    },
    {
      "cell_type": "code",
      "source": [
        "#33 Write a code to access a value in a nested dictionary. The function should take the dictionary and a list of keys as input, and return the corresponding value. If any of the keys do not exist in the dictionary, the function should return None\n",
        "\n",
        "def access_nested_dict(d, keys):\n",
        "    for key in keys:\n",
        "        if key not in d:\n",
        "            return None\n",
        "        d = d[key]\n",
        "    return d\n",
        "\n",
        "# Example usage:\n",
        "nested_dict = {\"a\": {\"b\": {\"c\": 1}}}\n",
        "keys = [\"a\", \"b\", \"c\"]\n",
        "print(access_nested_dict(nested_dict, keys))  # Output: 1\n",
        "\n",
        "keys = [\"a\", \"b\", \"d\"]\n",
        "print(access_nested_dict(nested_dict, keys))  # Output: None\n"
      ],
      "metadata": {
        "id": "FcLGAxs1jb9T"
      },
      "execution_count": null,
      "outputs": []
    },
    {
      "cell_type": "code",
      "source": [
        "#34  Write a code that takes a dictionary as input and returns a sorted version of it based on the values. You can choose whether to sort in ascending or descending order\n",
        "\n",
        "d = {\"a\": 3, \"b\": 1, \"c\": 2}\n",
        "sorted_d = dict(sorted(d.items(), key=lambda item: item[1]))\n",
        "print(sorted_d)  # Output: {'b': 1, 'c': 2, 'a': 3}\n",
        "\n",
        "sorted_d_desc = dict(sorted(d.items(), key=lambda item: item[1], reverse=True))\n",
        "print(sorted_d_desc)  # Output: {'a': 3, 'c': 2, 'b': 1}\n"
      ],
      "metadata": {
        "id": "MowGjH3ejeBB"
      },
      "execution_count": null,
      "outputs": []
    },
    {
      "cell_type": "code",
      "source": [
        "# 35 Write a code that inverts a dictionary, swapping keys and values. Ensure that the inverted dictionary correctly handles cases where multiple keys have the same value by storing the keys as a list in the inverted dictionary.\n",
        "\n",
        "d = {\"a\": 1, \"b\": 2, \"c\": 1, \"d\": 3}\n",
        "\n",
        "inverted_d = {}\n",
        "for k, v in d.items():\n",
        "    if v not in inverted_d:\n",
        "        inverted_d[v] = [k]\n",
        "    else:\n",
        "        inverted_d[v].append(k)\n",
        "\n",
        "print(inverted_d)  # Output: {1: ['a', 'c'], 2: ['b'], 3: ['d']}\n"
      ],
      "metadata": {
        "id": "DPHOf1kgjeHV"
      },
      "execution_count": null,
      "outputs": []
    }
  ]
}